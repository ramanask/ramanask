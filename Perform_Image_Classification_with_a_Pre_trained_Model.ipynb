{
  "nbformat": 4,
  "nbformat_minor": 0,
  "metadata": {
    "colab": {
      "provenance": [],
      "authorship_tag": "ABX9TyPTnfRKllI9vKMCvrxjwUaY",
      "include_colab_link": true
    },
    "kernelspec": {
      "name": "python3",
      "display_name": "Python 3"
    },
    "language_info": {
      "name": "python"
    }
  },
  "cells": [
    {
      "cell_type": "markdown",
      "metadata": {
        "id": "view-in-github",
        "colab_type": "text"
      },
      "source": [
        "<a href=\"https://colab.research.google.com/github/ramanask/ramanask/blob/main/Perform_Image_Classification_with_a_Pre_trained_Model.ipynb\" target=\"_parent\"><img src=\"https://colab.research.google.com/assets/colab-badge.svg\" alt=\"Open In Colab\"/></a>"
      ]
    },
    {
      "cell_type": "code",
      "execution_count": 5,
      "metadata": {
        "colab": {
          "base_uri": "https://localhost:8080/"
        },
        "id": "HrbWxJOgM-ow",
        "outputId": "45860455-6620-4650-9ce4-e591820c1fab"
      },
      "outputs": [
        {
          "output_type": "stream",
          "name": "stdout",
          "text": [
            "1/1 [==============================] - 2s 2s/step\n",
            "Predictions:\n",
            "1: banana (1.00)\n",
            "2: maraca (0.00)\n",
            "3: nematode (0.00)\n"
          ]
        }
      ],
      "source": [
        "import tensorflow as tf\n",
        "from tensorflow.keras.preprocessing import image\n",
        "from tensorflow.keras.applications.inception_v3 import InceptionV3, preprocess_input, decode_predictions\n",
        "import numpy as np\n",
        "\n",
        "# Load the pre-trained InceptionV3 model\n",
        "model = InceptionV3(weights='imagenet')\n",
        "\n",
        "# Load and preprocess the input image\n",
        "img_path = '/content/Banana.jpg'  # Replace with the path to your image\n",
        "img = image.load_img(img_path, target_size=(180, 180))  # InceptionV3 input size\n",
        "img_array = image.img_to_array(img)\n",
        "img_array = np.expand_dims(img_array, axis=0)\n",
        "img_array = preprocess_input(img_array)\n",
        "from PIL import Image\n",
        "\n",
        "img = Image.open(img_path)\n",
        "img = img.resize((299, 299))\n",
        "img_array = image.img_to_array(img)\n",
        "img_array = np.expand_dims(img_array, axis=0)\n",
        "img_array = preprocess_input(img_array)\n",
        "# Make predictions\n",
        "predictions = model.predict(img_array)\n",
        "\n",
        "# Decode and print the top-3 predicted classes\n",
        "decoded_predictions = decode_predictions(predictions, top=3)[0]\n",
        "print(\"Predictions:\")\n",
        "for i, (imagenet_id, label, score) in enumerate(decoded_predictions):\n",
        "    print(f\"{i + 1}: {label} ({score:.2f})\")\n",
        ""
      ]
    }
  ]
}